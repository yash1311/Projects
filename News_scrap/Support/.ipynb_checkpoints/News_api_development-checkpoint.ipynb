{
 "cells": [
  {
   "cell_type": "code",
   "execution_count": 5,
   "metadata": {},
   "outputs": [
    {
     "data": {
      "text/plain": [
       "['https://www.thehindubusinessline.com/money-and-banking/this-is-the-peak-in-terms-of-npas-and-slippages-yes-bank-chief/article33643685.ece',\n",
       " 'https://timesofindia.indiatimes.com/city/mumbai/hdil-pmc-bank-fraud-ed-produces-mehul-thakur-and-madan-gopal-chaturvedi-before-special-court-in-mumbai/articleshow/80421781.cms',\n",
       " 'https://www.hindustantimes.com/business/pmc-bank-fraud-ed-arrests-viva-group-md-consultant-101611395670556.html',\n",
       " 'https://www.financialexpress.com/budget/budget-2021-policy-reforms-that-shall-enable-an-atmanirbhar-bharat/2177109/',\n",
       " 'https://timesofindia.indiatimes.com/blogs/foreign-media/templetons-india-closures-leave-a-bad-taste-bloomberg/',\n",
       " 'https://economictimes.indiatimes.com/markets/stocks/etmarkets-podcast/market-watch-is-dalal-street-headed-for-a-steep-correction/podcast/80410250.cms',\n",
       " 'http://www.businessworld.in/article/Yes-Bank-Reports-Q3-Net-At-Rs-147-Cr-COVID-Ups-Stressed-Assets/23-01-2021-368899',\n",
       " 'https://www.timesnownews.com/business-economy/economy/article/pmc-bank-case-ed-raids-premises-of-mla-hitendra-thakur-s-office-viva-group/710835',\n",
       " 'https://timesofindia.indiatimes.com/business/india-business/yes-bank-q4-net-at-rs-151-crore-to-raise-rs-10-crore/articleshow/80415975.cms',\n",
       " 'https://www.financialexpress.com/industry/banking-finance/asset-quality-improves-yes-bank-reports-rs-151-crore-profit-on-strong-interest-income/2176717/']"
      ]
     },
     "execution_count": 5,
     "metadata": {},
     "output_type": "execute_result"
    }
   ],
   "source": [
    "from GoogleNews import GoogleNews\n",
    "\n",
    "\n",
    "googlenews = GoogleNews('en')\n",
    "googlenews.set_period\n",
    "googlenews.search(\"Yes bank\")\n",
    "#googlenews.getpage(1)\n",
    "\n",
    "\n",
    "googlenews.get_links()"
   ]
  },
  {
   "cell_type": "code",
   "execution_count": 6,
   "metadata": {},
   "outputs": [],
   "source": [
    "from newsapi import NewsApiClient\n",
    "\n",
    "# Init\n",
    "newsapi = NewsApiClient(api_key='75e9651782304c69aad9e604cd4f4a59')\n",
    "\n",
    "# /v2/top-headlines\n",
    "top_headlines = newsapi.get_everything(q='reliance',\n",
    "                                       # sources='Livemint',\n",
    "                                       domains='bloombergquint.com,livemint.com,moneycontrol.com,economictimes.indiatimes.com,business-standard.com,financialexpress.com',\n",
    "                                        language='en',\n",
    "                                       from_param='2021-01-22',\n",
    "                                        #  to='2021-01-23',\n",
    "                                       sort_by='publishedAt'\n",
    "                                          )"
   ]
  },
  {
   "cell_type": "code",
   "execution_count": 61,
   "metadata": {},
   "outputs": [],
   "source": [
    "import pandas as pd\n",
    "from datetime import date\n",
    "import pytz"
   ]
  },
  {
   "cell_type": "code",
   "execution_count": 8,
   "metadata": {},
   "outputs": [
    {
     "data": {
      "text/plain": [
       "dict"
      ]
     },
     "execution_count": 8,
     "metadata": {},
     "output_type": "execute_result"
    }
   ],
   "source": [
    "type(top_headlines)"
   ]
  },
  {
   "cell_type": "code",
   "execution_count": 9,
   "metadata": {},
   "outputs": [
    {
     "data": {
      "text/plain": [
       "dict_keys(['status', 'totalResults', 'articles'])"
      ]
     },
     "execution_count": 9,
     "metadata": {},
     "output_type": "execute_result"
    }
   ],
   "source": [
    "top_headlines.keys()"
   ]
  },
  {
   "cell_type": "code",
   "execution_count": 10,
   "metadata": {},
   "outputs": [
    {
     "data": {
      "text/plain": [
       "list"
      ]
     },
     "execution_count": 10,
     "metadata": {},
     "output_type": "execute_result"
    }
   ],
   "source": [
    "type(top_headlines['articles'])"
   ]
  },
  {
   "cell_type": "code",
   "execution_count": 11,
   "metadata": {},
   "outputs": [
    {
     "data": {
      "text/plain": [
       "{'source': {'id': None, 'name': 'Moneycontrol'},\n",
       " 'author': None,\n",
       " 'title': 'Crude oil outlook weakens on US inventory build-up, rising COVID cases; gains 0.34% this week on MCX',\n",
       " 'description': 'The US Energy Information Administration (EIA) reported that US crude inventories rose 4.4 million barrels for the week to January 15.',\n",
       " 'url': 'https://www.moneycontrol.com/news/business/commodities/crude-oil-outlook-weakens-on-us-inventory-build-up-rising-covid-cases-gains-0-34-this-week-on-mcx-6388121.html',\n",
       " 'urlToImage': 'https://images.moneycontrol.com/static-mcnews/2021/01/crude-oil-770x433.jpg',\n",
       " 'publishedAt': '2021-01-23T13:25:44Z',\n",
       " 'content': 'Crude oil futures slipped to settle at Rs 3,838 per barrel on January 22 as participants increased their short positions as seen by the open interest. The prices fell on new restriction imposed by Ch… [+5233 chars]'}"
      ]
     },
     "execution_count": 11,
     "metadata": {},
     "output_type": "execute_result"
    }
   ],
   "source": [
    "top_headlines['articles'][0]"
   ]
  },
  {
   "cell_type": "code",
   "execution_count": 12,
   "metadata": {},
   "outputs": [
    {
     "data": {
      "text/plain": [
       "[{'source': {'id': None, 'name': 'Moneycontrol'},\n",
       "  'author': None,\n",
       "  'title': 'Crude oil outlook weakens on US inventory build-up, rising COVID cases; gains 0.34% this week on MCX',\n",
       "  'description': 'The US Energy Information Administration (EIA) reported that US crude inventories rose 4.4 million barrels for the week to January 15.',\n",
       "  'url': 'https://www.moneycontrol.com/news/business/commodities/crude-oil-outlook-weakens-on-us-inventory-build-up-rising-covid-cases-gains-0-34-this-week-on-mcx-6388121.html',\n",
       "  'urlToImage': 'https://images.moneycontrol.com/static-mcnews/2021/01/crude-oil-770x433.jpg',\n",
       "  'publishedAt': '2021-01-23T13:25:44Z',\n",
       "  'content': 'Crude oil futures slipped to settle at Rs 3,838 per barrel on January 22 as participants increased their short positions as seen by the open interest. The prices fell on new restriction imposed by Ch… [+5233 chars]'},\n",
       " {'source': {'id': None, 'name': 'Moneycontrol'},\n",
       "  'author': None,\n",
       "  'title': 'Reliance Home Finance Q3 loss widens to Rs 340 crore',\n",
       "  'description': 'Total income fell to Rs 174.66 crore in the quarter under review from Rs 442.03 crore in the same period of 2019-20, Reliance Home Finance said in a regulatory filing.',\n",
       "  'url': 'https://www.moneycontrol.com/news/business/earnings/reliance-home-finance-q3-loss-widens-to-rs-340-crore-6387701.html',\n",
       "  'urlToImage': 'https://images.moneycontrol.com/static-mcnews/2017/04/earnings-numbers-boardroom-result-770x433.jpg',\n",
       "  'publishedAt': '2021-01-23T10:55:42Z',\n",
       "  'content': 'Reliance Home Finance, part of the Anil Ambani-promoted Reliance Group, on Friday reported a net loss of Rs 339.55 crore for the third quarter of 2020-21. The company had posted a loss of Rs 73.52 cr… [+575 chars]'},\n",
       " {'source': {'id': None, 'name': 'Moneycontrol'},\n",
       "  'author': None,\n",
       "  'title': 'Gold rises 1% to Rs 49,190/10 gm, silver up 3% this week; key events, technicals and strategy',\n",
       "  'description': 'Sriram Iyer, Senior Research Analyst at Reliance Securities, stated that MCX Gold is holding well above its 200-DMA support which is placed at Rs 48,555 levels.',\n",
       "  'url': 'https://www.moneycontrol.com/news/business/commodities/gold-rises-1-to-rs-4919010-gm-silver-up-3-this-week-key-events-technicals-and-strategy-6387561.html',\n",
       "  'urlToImage': 'https://images.moneycontrol.com/static-mcnews/2020/11/gold-770x433.jpg',\n",
       "  'publishedAt': '2021-01-23T10:43:00Z',\n",
       "  'content': 'Gold prices edged lower to Rs 49,190 per 10 gram on January 22 as participants trimmed their position as seen by the open interest. However, the precious metal ended with a gain of Rs 488 or 1 percen… [+6219 chars]'},\n",
       " {'source': {'id': None, 'name': 'Business Standard'},\n",
       "  'author': 'Press Trust of India',\n",
       "  'title': 'Telcos want govt to clarify onus of security breach post NSD rollout',\n",
       "  'description': 'Under the current rules, telecom operators are held responsible if there is any security breach in their network',\n",
       "  'url': 'https://www.business-standard.com/article/companies/telcos-want-govt-to-clarify-onus-of-security-breach-post-nsd-rollout-121012300389_1.html',\n",
       "  'urlToImage': 'https://bsmedia.business-standard.com/_media/bs/img/article/2020-08/24/full/1598283823-9715.jpg',\n",
       "  'publishedAt': '2021-01-23T07:16:00Z',\n",
       "  'content': 'Telcos have asked the government to clarify about the entity that will be held liable if there is security breach in the network post implementation of National Security Directive (NSD) on the teleco… [+3514 chars]'},\n",
       " {'source': {'id': None, 'name': 'Moneycontrol'},\n",
       "  'author': None,\n",
       "  'title': 'Market ends lower on profit-booking after hitting a record high',\n",
       "  'description': 'On the Sensex, Reliance Industries added the most in terms of market value followed by Tata Consultancy Services, Bajaj Auto and Hindustan Unilever.',\n",
       "  'url': 'https://www.moneycontrol.com/news/photos/business/markets/market-ends-lower-on-profit-booking-after-hitting-a-record-high-6384721.html',\n",
       "  'urlToImage': 'https://images.moneycontrol.com/static-mcnews/2018/11/BSENSESensexnifty-770x433.jpg',\n",
       "  'publishedAt': '2021-01-23T03:41:48Z',\n",
       "  'content': None},\n",
       " {'source': {'id': None, 'name': 'Business Standard'},\n",
       "  'author': 'P R Sanjai and Debjit Chakraborty | Bloomberg',\n",
       "  'title': \"Ambani's Reliance Jio doubles down on 5G service pledge after record profit\",\n",
       "  'description': \"The group's wireless operator, Reliance Jio Infocomm Ltd. -- India's largest -- has started advance tests to prepare the fifth-generation, high-speed network\",\n",
       "  'url': 'https://www.business-standard.com/article/companies/ambani-s-reliance-jio-doubles-down-on-5g-service-pledge-after-record-profit-121012300137_1.html',\n",
       "  'urlToImage': 'https://bsmedia.business-standard.com/_media/bs/img/article/2020-05/04/full/1588612930-3505.jpg',\n",
       "  'publishedAt': '2021-01-23T02:54:00Z',\n",
       "  'content': 'Indian billionaire Mukesh Ambani doubled down on his promise to offer 5G services on his wireless network as early as this year, as his conglomerate Reliance Industries Ltd. reported a record profit … [+4030 chars]'},\n",
       " {'source': {'id': None, 'name': 'Livemint'},\n",
       "  'author': 'Bloomberg',\n",
       "  'title': 'Mukesh Ambani’s Reliance doubles down on 5G pledge after record profit - Mint',\n",
       "  'description': '<ol><li>Mukesh Ambani’s Reliance doubles down on 5G pledge after record profit\\xa0\\xa0Mint\\r\\n</li><li>RIL Q3: Profit up 40% on robust revival in O2C, retail segments; Jio ARPU grows to Rs 151\\xa0\\xa0Moneycontrol.com\\r\\n</li><li>Reliance Industries Q3FY21 earnings today: Her…',\n",
       "  'url': 'https://www.livemint.com/companies/news/ambanis-reliance-doubles-down-on-5g-pledge-after-record-profit-11611365479629.html',\n",
       "  'urlToImage': 'https://images.livemint.com/img/2021/01/23/600x338/a808cea0-4c3d-11eb-b812-95fb3e0318d9_1611366770048_1611366786615.jpg',\n",
       "  'publishedAt': '2021-01-23T01:54:54Z',\n",
       "  'content': 'Indian billionaire Mukesh Ambani doubled down on his promise to offer 5G services on his wireless network as early as this year, as his conglomerate Reliance Industries Ltd. reported a record profit … [+2654 chars]'},\n",
       " {'source': {'id': None, 'name': 'Business Standard'},\n",
       "  'author': 'Samie Modak',\n",
       "  'title': \"After the high, a big fall: Sensex's 11-week winning streak ends\",\n",
       "  'description': 'Most global stocks dropped, with investors pruning their bullish bets as rising Covid-19 cases sparked concerns about corporate earnings and economic revival',\n",
       "  'url': 'https://www.business-standard.com/article/markets/after-the-high-a-big-fall-sensex-s-11-week-winning-streak-ends-121012300062_1.html',\n",
       "  'urlToImage': 'https://bsmedia.business-standard.com/_media/bs/img/article/2021-01/23/full/1611346412-5911.jpg',\n",
       "  'publishedAt': '2021-01-22T20:05:00Z',\n",
       "  'content': 'The Indian markets on Friday posted their biggest single-day fall in a month amid a slide in global equities and sell-off in the banking space.\\r\\nMost global stocks dropped, with investors pruning the… [+3804 chars]'},\n",
       " {'source': {'id': None, 'name': 'Moneycontrol'},\n",
       "  'author': None,\n",
       "  'title': 'Strong digital contribution along with pick-up in legacy business boosts RIL bottom line',\n",
       "  'description': 'The key trend-setter remains the telecom business Reliance Jio, with performance driven by the tailwinds of the work from home culture, tariff hikes, traction in digital platform services and strong pick-up in JioGigaFiber services',\n",
       "  'url': 'https://www.moneycontrol.com/news/business/moneycontrol-research/strong-digital-contribution-along-with-pick-up-in-legacy-business-boosts-ril-bottom-line-6386341.html',\n",
       "  'urlToImage': 'https://images.moneycontrol.com/static-mcnews/2020/07/RELIANCE-770x433.jpg',\n",
       "  'publishedAt': '2021-01-22T17:58:47Z',\n",
       "  'content': None},\n",
       " {'source': {'id': None, 'name': 'Business Standard'},\n",
       "  'author': 'Viveat Susan Pinto',\n",
       "  'title': 'Reliance Retail Q3 revenue declines 9.7% to Rs 33,018 crore; profit surges',\n",
       "  'description': \"Yearly numbers are not comparable, RIL said, since the petro retail business, which makes up 40 per cent of the company's retail revenues, has been demerged\",\n",
       "  'url': 'https://www.business-standard.com/article/companies/reliance-retail-q3-revenue-declines-9-7-to-rs-33-018-crore-profit-surges-121012201375_1.html',\n",
       "  'urlToImage': 'https://bsmedia.business-standard.com/_media/bs/img/article/2021-01/04/full/1609774961-0679.jpg',\n",
       "  'publishedAt': '2021-01-22T16:21:00Z',\n",
       "  'content': 'The retail arm of Reliance Industries (RIL) reported a 9.7 per cent sequential decline in its revenue from operations to Rs 33,018 crore for the quarter ended December 2020 (Q3), but profit surged on… [+3320 chars]'},\n",
       " {'source': {'id': None, 'name': 'BloombergQuint'},\n",
       "  'author': 'Sameer Bhardwaj',\n",
       "  'title': 'RIL Q3 Results: Consolidated Net Profit Rises 12.6% On Digital, Petchem Push - BloombergQuint',\n",
       "  'description': '<ol><li>RIL Q3 Results: Consolidated Net Profit Rises 12.6% On Digital, Petchem Push\\xa0\\xa0BloombergQuint\\r\\n</li><li>RIL Q3: Profit up 40% on robust revival in O2C, retail segments; Jio ARPU grows to Rs 151\\xa0\\xa0Moneycontrol.com\\r\\n</li><li>Reliance Industries Q3 net up …',\n",
       "  'url': 'https://www.bloombergquint.com/quarterly-earnings/ril-q3-results-consolidated-net-profit-rises-126-on-digital-petchem-push',\n",
       "  'urlToImage': 'https://gumlet.assettype.com/bloombergquint%2F2020-06%2F389cda2a-1b5e-43ea-9366-0d0da57cb374%2F234091758.jpg?rect=0%2C149%2C3000%2C1575&w=1200&auto=format%2Ccompress&ogImage=true',\n",
       "  'publishedAt': '2021-01-22T16:18:36Z',\n",
       "  'content': 'Reliance Industries Ltd.s quarterly profit rose as demand for its petrochemicals increased and its digital services arm clocked higher sales.\\r\\nThe Mukesh Ambani-led conglomerates profit rose 12.6% ye… [+3673 chars]'},\n",
       " {'source': {'id': None, 'name': 'Moneycontrol'},\n",
       "  'author': None,\n",
       "  'title': 'RIL#39;s Q3FY21 earnings show strong sequential rebound across sectors; top 5 highlights of December quarter scorecard',\n",
       "  'description': 'The company posted a 40.5 percent sequential growth in consolidated profit at Rs 14,894 crore for the quarter ended December 31, 2020.',\n",
       "  'url': 'https://www.moneycontrol.com/news/business/markets/rils-q3fy21-earnings-show-strong-sequential-rebound-across-sectors-top-5-highlights-of-december-quarter-scorecard-6386201.html',\n",
       "  'urlToImage': 'https://images.moneycontrol.com/static-mcnews/2021/01/Earnings-2-1-770x433.jpg',\n",
       "  'publishedAt': '2021-01-22T16:17:38Z',\n",
       "  'content': 'Reliance Industries (RIL) on January 22 posted a better-than-expected December quarter numbers, supported by a strong sequential rebound across businesses.\\r\\nThe company posted a 40.5 percent sequenti… [+4573 chars]'},\n",
       " {'source': {'id': None, 'name': 'Business Standard'},\n",
       "  'author': 'Press Trust of India',\n",
       "  'title': 'Reliance Retail pre-tax profit rises 11.8% at Rs 3,102 crore in Q3',\n",
       "  'description': 'The retail arm of Reliance Industries had posted a pre-tax profit or EBITDA (earnings before interest, tax, depreciation and amortisation) of Rs 2,736 crore in October-December quarter a year ago',\n",
       "  'url': 'https://www.business-standard.com/article/companies/reliance-retail-pre-tax-profit-rises-11-8-at-rs-3-102-crore-in-q3-121012201352_1.html',\n",
       "  'urlToImage': 'https://bsmedia.business-standard.com/_media/bs/img/article/2020-10/07/full/1602011459-9125.jpg',\n",
       "  'publishedAt': '2021-01-22T15:57:00Z',\n",
       "  'content': 'Reliance Retail on Friday reported an 11.80per cent rise in its pre-tax profit to Rs 3,102 crore for the third quarter ended December 2020.\\r\\nThe retail arm of Reliance Industries Ltd (RIL) had posted… [+3669 chars]'},\n",
       " {'source': {'id': None, 'name': 'Business Standard'},\n",
       "  'author': 'Business Standard',\n",
       "  'title': 'Reliance Industries Q3 consolidated PAT at Rs 13,101 cr, up 12.5% YoY',\n",
       "  'description': 'Topline takes a hit by 21% as Covid-19 impacts operations, sales',\n",
       "  'url': 'https://www.business-standard.com/article/companies/reliance-indreliance-industries-net-profit-rises-12-5-to-rs-13-101-crore-in-q3ustries-net-profit-rises-12-5-to-rs-13-101-crore-in-q3-121012201334_1.html',\n",
       "  'urlToImage': 'https://bsmedia.business-standard.com/_media/bs/img/article/2020-09/11/full/1599763590-9503.jpg',\n",
       "  'publishedAt': '2021-01-22T15:47:00Z',\n",
       "  'content': 'Mukesh Ambani-led Reliance Industries reported a consolidated net profit of Rs 13,101 crore in the December quarter, up 12.5 percent from same period last year as lower expenses cushioned earnings ev… [+2659 chars]'},\n",
       " {'source': {'id': None, 'name': 'Business Standard'},\n",
       "  'author': 'Business Standard',\n",
       "  'title': 'Reliance Jio net profit rises 15.5% to Rs 3,489 crore in Dec quarter',\n",
       "  'description': 'Jio Platforms, which provides digital and telecom services, had posted a net profit of Rs 3,020 crore in the previous quarter',\n",
       "  'url': 'https://www.business-standard.com/article/companies/reliance-jio-net-profit-rises-15-5-to-rs-3-489-crore-in-december-quarter-121012201277_1.html',\n",
       "  'urlToImage': 'https://bsmedia.business-standard.com/_media/bs/img/article/2020-07/17/full/1595004563-7064.jpg',\n",
       "  'publishedAt': '2021-01-22T15:06:00Z',\n",
       "  'content': 'Jio Platforms recorded 15.5 per cent quarter-on-quarter rise in net profit to Rs 3,489 crore for October-December 2020, its parent firm Reliance Industries Limited said on Friday.\\r\\nJio Platforms, whi… [+1699 chars]'},\n",
       " {'source': {'id': None, 'name': 'Business Standard'},\n",
       "  'author': 'Business Standard',\n",
       "  'title': 'Reliance Industries Q3 net profit rises 12.5% to Rs 13,101 crore',\n",
       "  'description': 'Consolidated net revenue declined to Rs 1.23 trillion in December quarter compared to Rs 1.57 trillion during the year-ago period',\n",
       "  'url': 'https://www.business-standard.com/article/companies/reliance-industries-q3-net-profit-rises-12-5-to-rs-13-101-crore-in-q3-121012201226_1.html',\n",
       "  'urlToImage': 'https://bsmedia.business-standard.com/_media/bs/img/article/2020-12/29/full/1609206943-0639.jpg',\n",
       "  'publishedAt': '2021-01-22T14:33:00Z',\n",
       "  'content': \"Billionaire Mukesh Ambani's Reliance Industries Ltd on Friday reported a 12.5 per cent rise in consolidated net profit to Rs 13,101 crore for the quarter ended December, 2020 compared to Rs 11,640 cr… [+1633 chars]\"},\n",
       " {'source': {'id': None, 'name': 'Moneycontrol'},\n",
       "  'author': None,\n",
       "  'title': 'Reliance Jio Q3 results: Profit grows to Rs 3,489 crore',\n",
       "  'description': 'In the corresponding quarter of the previous financial year, Jio#39;s profit was 1,350 crore. In the September quarter of the financial year 2021, the profit was 2,844 crore.',\n",
       "  'url': 'https://www.moneycontrol.com/news/business/markets/reliance-jio-q3-results-profit-grows-to-rs-3489-crore-6383361.html',\n",
       "  'urlToImage': 'https://images.moneycontrol.com/static-mcnews/2021/01/Earnings-1-2-770x433.jpg',\n",
       "  'publishedAt': '2021-01-22T14:31:00Z',\n",
       "  'content': 'Reliance Jio, the telecommunications arm of Jio Platforms, on January 22 posted a net profit of Rs 3,489 crore for the quarter ended December 31, 2020.\\r\\nThe profit numbers were higher than the Street… [+1372 chars]'},\n",
       " {'source': {'id': None, 'name': 'Business Standard'},\n",
       "  'author': 'Press Trust of India',\n",
       "  'title': 'Aurobindo Pharma, KAPL get nod for promotion of manufacturing bulk drugs',\n",
       "  'description': 'The government has given approval to drug firms includingAurobindo Pharma and Karnataka Antibiotics & Pharmaceuticals under the PLI scheme for promotion of domestic manufacturing of critical bulk drugs.\\nThe Production Linked Incentive (PLI) scheme aims at pro…',\n",
       "  'url': 'https://www.business-standard.com/article/companies/aurobindo-pharma-kapl-get-nod-for-promotion-of-manufacturing-bulk-drugs-121012201186_1.html',\n",
       "  'urlToImage': 'https://bsmedia.business-standard.com/_media/bs/img/article/2020-09/13/full/1600015921-1878.jpg',\n",
       "  'publishedAt': '2021-01-22T14:31:00Z',\n",
       "  'content': 'The government has given approval to drug firms includingAurobindo Pharma and Karnataka Antibiotics &amp; Pharmaceuticals under the PLI scheme for promotion of domestic manufacturing of critical bulk… [+4074 chars]'},\n",
       " {'source': {'id': None, 'name': 'Livemint'},\n",
       "  'author': 'J. Jagannath',\n",
       "  'title': 'RIL Q3 results: Net profit rises 12.5% to ₹13,101 cr - Mint',\n",
       "  'description': '<ol><li>RIL Q3 results: Net profit rises 12.5% to ₹13,101 cr\\xa0\\xa0Mint\\r\\n</li><li>Reliance Industries share price falls 1.5% ahead of Q3 results; retail, refining biz in focus\\xa0\\xa0The Financial Express\\r\\n</li><li>Nifty flat; Reliance in focus ahead of results\\xa0\\xa0Investi…',\n",
       "  'url': 'https://www.livemint.com/companies/company-results/ril-q3-results-net-profit-rises-12-5-to-rs-13-101-cr-11611311258401.html',\n",
       "  'urlToImage': 'https://images.livemint.com/img/2021/01/22/600x338/2021-01-18T064555Z_2_LYNXMPEH0H05D_RTROPTP_3_RELIANCEINDUSTRIES_1611311753014_1611311771649.JPG',\n",
       "  'publishedAt': '2021-01-22T14:27:19Z',\n",
       "  'content': 'Oil-to-telecom conglomerate Reliance Industries on Friday reported 12.5% rise in consolidated net profit at 13,101 crore for the quarter ending 31 December, 2020. It was 11,640 crore in the year-ago … [+2610 chars]'},\n",
       " {'source': {'id': None, 'name': 'Moneycontrol'},\n",
       "  'author': None,\n",
       "  'title': 'RIL Q3 profit jumps 40% to Rs 14,894 crore, revenue rises 6.7% to Rs 1.24 lakh crore',\n",
       "  'description': 'Reliance Industries#39; share price rallied 32 percent in the calendar year 2020.',\n",
       "  'url': 'https://www.moneycontrol.com/news/business/earnings/ril-q3-profit-jumps-40-to-rs-14894-crore-revenue-rises-6-7-to-rs-1-24-lakh-crore-6383531.html',\n",
       "  'urlToImage': 'https://images.moneycontrol.com/static-mcnews/2020/07/RELIANCE-770x433.jpg',\n",
       "  'publishedAt': '2021-01-22T14:24:32Z',\n",
       "  'content': \"Reliance Industries, the country's largest company by market capitalisation, has reported consolidated profit at Rs 14,894 crore for the quarter ended December 2020. The oil-to-telecom conglomerate's… [+1080 chars]\"}]"
      ]
     },
     "execution_count": 12,
     "metadata": {},
     "output_type": "execute_result"
    }
   ],
   "source": [
    "articles=top_headlines['articles']\n",
    "articles"
   ]
  },
  {
   "cell_type": "code",
   "execution_count": 13,
   "metadata": {},
   "outputs": [
    {
     "name": "stdout",
     "output_type": "stream",
     "text": [
      "0  Crude oil outlook weakens on US inventory build-up, rising COVID cases; gains 0.34% this week on MCX\n",
      "0  https://www.moneycontrol.com/news/business/commodities/crude-oil-outlook-weakens-on-us-inventory-build-up-rising-covid-cases-gains-0-34-this-week-on-mcx-6388121.html\n",
      "1  Reliance Home Finance Q3 loss widens to Rs 340 crore\n",
      "1  https://www.moneycontrol.com/news/business/earnings/reliance-home-finance-q3-loss-widens-to-rs-340-crore-6387701.html\n",
      "2  Gold rises 1% to Rs 49,190/10 gm, silver up 3% this week; key events, technicals and strategy\n",
      "2  https://www.moneycontrol.com/news/business/commodities/gold-rises-1-to-rs-4919010-gm-silver-up-3-this-week-key-events-technicals-and-strategy-6387561.html\n",
      "3  Telcos want govt to clarify onus of security breach post NSD rollout\n",
      "3  https://www.business-standard.com/article/companies/telcos-want-govt-to-clarify-onus-of-security-breach-post-nsd-rollout-121012300389_1.html\n",
      "4  Market ends lower on profit-booking after hitting a record high\n",
      "4  https://www.moneycontrol.com/news/photos/business/markets/market-ends-lower-on-profit-booking-after-hitting-a-record-high-6384721.html\n",
      "5  Ambani's Reliance Jio doubles down on 5G service pledge after record profit\n",
      "5  https://www.business-standard.com/article/companies/ambani-s-reliance-jio-doubles-down-on-5g-service-pledge-after-record-profit-121012300137_1.html\n",
      "6  Mukesh Ambani’s Reliance doubles down on 5G pledge after record profit - Mint\n",
      "6  https://www.livemint.com/companies/news/ambanis-reliance-doubles-down-on-5g-pledge-after-record-profit-11611365479629.html\n",
      "7  After the high, a big fall: Sensex's 11-week winning streak ends\n",
      "7  https://www.business-standard.com/article/markets/after-the-high-a-big-fall-sensex-s-11-week-winning-streak-ends-121012300062_1.html\n",
      "8  Strong digital contribution along with pick-up in legacy business boosts RIL bottom line\n",
      "8  https://www.moneycontrol.com/news/business/moneycontrol-research/strong-digital-contribution-along-with-pick-up-in-legacy-business-boosts-ril-bottom-line-6386341.html\n",
      "9  Reliance Retail Q3 revenue declines 9.7% to Rs 33,018 crore; profit surges\n",
      "9  https://www.business-standard.com/article/companies/reliance-retail-q3-revenue-declines-9-7-to-rs-33-018-crore-profit-surges-121012201375_1.html\n",
      "10  RIL Q3 Results: Consolidated Net Profit Rises 12.6% On Digital, Petchem Push - BloombergQuint\n",
      "10  https://www.bloombergquint.com/quarterly-earnings/ril-q3-results-consolidated-net-profit-rises-126-on-digital-petchem-push\n",
      "11  RIL#39;s Q3FY21 earnings show strong sequential rebound across sectors; top 5 highlights of December quarter scorecard\n",
      "11  https://www.moneycontrol.com/news/business/markets/rils-q3fy21-earnings-show-strong-sequential-rebound-across-sectors-top-5-highlights-of-december-quarter-scorecard-6386201.html\n",
      "12  Reliance Retail pre-tax profit rises 11.8% at Rs 3,102 crore in Q3\n",
      "12  https://www.business-standard.com/article/companies/reliance-retail-pre-tax-profit-rises-11-8-at-rs-3-102-crore-in-q3-121012201352_1.html\n",
      "13  Reliance Industries Q3 consolidated PAT at Rs 13,101 cr, up 12.5% YoY\n",
      "13  https://www.business-standard.com/article/companies/reliance-indreliance-industries-net-profit-rises-12-5-to-rs-13-101-crore-in-q3ustries-net-profit-rises-12-5-to-rs-13-101-crore-in-q3-121012201334_1.html\n",
      "14  Reliance Jio net profit rises 15.5% to Rs 3,489 crore in Dec quarter\n",
      "14  https://www.business-standard.com/article/companies/reliance-jio-net-profit-rises-15-5-to-rs-3-489-crore-in-december-quarter-121012201277_1.html\n",
      "15  Reliance Industries Q3 net profit rises 12.5% to Rs 13,101 crore\n",
      "15  https://www.business-standard.com/article/companies/reliance-industries-q3-net-profit-rises-12-5-to-rs-13-101-crore-in-q3-121012201226_1.html\n",
      "16  Reliance Jio Q3 results: Profit grows to Rs 3,489 crore\n",
      "16  https://www.moneycontrol.com/news/business/markets/reliance-jio-q3-results-profit-grows-to-rs-3489-crore-6383361.html\n",
      "17  Aurobindo Pharma, KAPL get nod for promotion of manufacturing bulk drugs\n",
      "17  https://www.business-standard.com/article/companies/aurobindo-pharma-kapl-get-nod-for-promotion-of-manufacturing-bulk-drugs-121012201186_1.html\n",
      "18  RIL Q3 results: Net profit rises 12.5% to ₹13,101 cr - Mint\n",
      "18  https://www.livemint.com/companies/company-results/ril-q3-results-net-profit-rises-12-5-to-rs-13-101-cr-11611311258401.html\n",
      "19  RIL Q3 profit jumps 40% to Rs 14,894 crore, revenue rises 6.7% to Rs 1.24 lakh crore\n",
      "19  https://www.moneycontrol.com/news/business/earnings/ril-q3-profit-jumps-40-to-rs-14894-crore-revenue-rises-6-7-to-rs-1-24-lakh-crore-6383531.html\n"
     ]
    }
   ],
   "source": [
    "for x,y in enumerate(articles):\n",
    "    \n",
    "    print(f'{x}  {y[\"title\"]}')\n",
    "    print(f'{x}  {y[\"url\"]}')"
   ]
  },
  {
   "cell_type": "code",
   "execution_count": 14,
   "metadata": {},
   "outputs": [
    {
     "name": "stdout",
     "output_type": "stream",
     "text": [
      "\n",
      "source          {'id': None, 'name': 'Moneycontrol'}\n",
      "\n",
      "author          None\n",
      "\n",
      "title           Reliance Home Finance Q3 loss widens to Rs 340 crore\n",
      "\n",
      "description     Total income fell to Rs 174.66 crore in the quarter under review from Rs 442.03 crore in the same period of 2019-20, Reliance Home Finance said in a regulatory filing.\n",
      "\n",
      "url             https://www.moneycontrol.com/news/business/earnings/reliance-home-finance-q3-loss-widens-to-rs-340-crore-6387701.html\n",
      "\n",
      "urlToImage      https://images.moneycontrol.com/static-mcnews/2017/04/earnings-numbers-boardroom-result-770x433.jpg\n",
      "\n",
      "publishedAt     2021-01-23T10:55:42Z\n",
      "\n",
      "content         Reliance Home Finance, part of the Anil Ambani-promoted Reliance Group, on Friday reported a net loss of Rs 339.55 crore for the third quarter of 2020-21. The company had posted a loss of Rs 73.52 cr… [+575 chars]\n"
     ]
    }
   ],
   "source": [
    "for key, value in articles[1].items():\n",
    "    print(f\"\\n{key.ljust(15)} {value}\")"
   ]
  },
  {
   "cell_type": "markdown",
   "metadata": {},
   "source": [
    "![image](https://images.moneycontrol.com/static-mcnews/2020/11/gold-770x433.jpg)"
   ]
  },
  {
   "cell_type": "code",
   "execution_count": 15,
   "metadata": {},
   "outputs": [],
   "source": [
    "pub_date = dt.datetime.strptime(articles[0]['publishedAt'],\"%Y-%m-%dT%H:%M:%SZ\").date()"
   ]
  },
  {
   "cell_type": "code",
   "execution_count": 16,
   "metadata": {},
   "outputs": [
    {
     "name": "stdout",
     "output_type": "stream",
     "text": [
      "23\n"
     ]
    }
   ],
   "source": [
    "print(pub_date.day)"
   ]
  },
  {
   "cell_type": "code",
   "execution_count": 17,
   "metadata": {},
   "outputs": [],
   "source": [
    "df=pd.DataFrame(articles)"
   ]
  },
  {
   "cell_type": "code",
   "execution_count": 32,
   "metadata": {},
   "outputs": [
    {
     "data": {
      "text/plain": [
       "23"
      ]
     },
     "execution_count": 32,
     "metadata": {},
     "output_type": "execute_result"
    }
   ],
   "source": [
    "df['publishedAt']=pd.to_datetime(df['publishedAt'], format=\"%Y-%m-%dT%H:%M:%SZ\")\n",
    "\n",
    "df.publishedAt[0].day"
   ]
  },
  {
   "cell_type": "code",
   "execution_count": 19,
   "metadata": {},
   "outputs": [],
   "source": [
    "preference=['reliance','yes bank','vodafone idea']"
   ]
  },
  {
   "cell_type": "code",
   "execution_count": 20,
   "metadata": {},
   "outputs": [
    {
     "data": {
      "text/plain": [
       "'reliance'"
      ]
     },
     "execution_count": 20,
     "metadata": {},
     "output_type": "execute_result"
    }
   ],
   "source": [
    "preference[0]"
   ]
  },
  {
   "cell_type": "code",
   "execution_count": 21,
   "metadata": {},
   "outputs": [
    {
     "data": {
      "text/plain": [
       "'yes bank'"
      ]
     },
     "execution_count": 21,
     "metadata": {},
     "output_type": "execute_result"
    }
   ],
   "source": [
    "preference[1]"
   ]
  },
  {
   "cell_type": "code",
   "execution_count": 37,
   "metadata": {},
   "outputs": [
    {
     "ename": "TypeError",
     "evalue": "'format' is an invalid keyword argument for now()",
     "output_type": "error",
     "traceback": [
      "\u001b[1;31m---------------------------------------------------------------------------\u001b[0m",
      "\u001b[1;31mTypeError\u001b[0m                                 Traceback (most recent call last)",
      "\u001b[1;32m<ipython-input-37-3b92653889ee>\u001b[0m in \u001b[0;36m<module>\u001b[1;34m\u001b[0m\n\u001b[1;32m----> 1\u001b[1;33m \u001b[0mcurrent_date\u001b[0m\u001b[1;33m=\u001b[0m\u001b[0mdt\u001b[0m\u001b[1;33m.\u001b[0m\u001b[0mdatetime\u001b[0m\u001b[1;33m.\u001b[0m\u001b[0mnow\u001b[0m\u001b[1;33m(\u001b[0m\u001b[0mformat\u001b[0m\u001b[1;33m=\u001b[0m\u001b[1;34m\"%Y-%m-%d\"\u001b[0m\u001b[1;33m)\u001b[0m\u001b[1;33m\u001b[0m\u001b[1;33m\u001b[0m\u001b[0m\n\u001b[0m\u001b[0;32m      2\u001b[0m \u001b[0mcurrent_date\u001b[0m\u001b[1;33m\u001b[0m\u001b[1;33m\u001b[0m\u001b[0m\n",
      "\u001b[1;31mTypeError\u001b[0m: 'format' is an invalid keyword argument for now()"
     ]
    }
   ],
   "source": [
    "current_date=dt.datetime.now(format=\"%Y-%m-%d\")\n",
    "current_date"
   ]
  },
  {
   "cell_type": "code",
   "execution_count": 57,
   "metadata": {},
   "outputs": [],
   "source": [
    "from newsapi import NewsApiClient\n",
    "\n",
    "# Init\n",
    "newsapi = NewsApiClient(api_key='75e9651782304c69aad9e604cd4f4a59')\n",
    "\n",
    "# /v2/top-headlines\n",
    "top_headlines = newsapi.get_everything(q='reliance',\n",
    "                                       # sources='Livemint',\n",
    "                                       domains='bloombergquint.com,livemint.com,moneycontrol.com,economictimes.indiatimes.com,business-standard.com,financialexpress.com',\n",
    "                                        language='en',\n",
    "                                       from_param='2021-01-22T14:30:00',\n",
    "                                        #  to='2021-01-23',\n",
    "                                       sort_by='publishedAt'\n",
    "                                          )"
   ]
  },
  {
   "cell_type": "code",
   "execution_count": 167,
   "metadata": {},
   "outputs": [
    {
     "name": "stdout",
     "output_type": "stream",
     "text": [
      "Total 18 articles found from sources.\n"
     ]
    }
   ],
   "source": [
    "\n",
    "if top_headlines['status'] == 'ok':\n",
    "    print('Total', top_headlines['totalResults'],'articles found from sources.')\n",
    "else:\n",
    "    print('OOps!! Result not found')"
   ]
  },
  {
   "cell_type": "code",
   "execution_count": 58,
   "metadata": {},
   "outputs": [],
   "source": [
    "articles=top_headlines['articles']"
   ]
  },
  {
   "cell_type": "code",
   "execution_count": 59,
   "metadata": {},
   "outputs": [
    {
     "data": {
      "text/html": [
       "<div>\n",
       "<style scoped>\n",
       "    .dataframe tbody tr th:only-of-type {\n",
       "        vertical-align: middle;\n",
       "    }\n",
       "\n",
       "    .dataframe tbody tr th {\n",
       "        vertical-align: top;\n",
       "    }\n",
       "\n",
       "    .dataframe thead th {\n",
       "        text-align: right;\n",
       "    }\n",
       "</style>\n",
       "<table border=\"1\" class=\"dataframe\">\n",
       "  <thead>\n",
       "    <tr style=\"text-align: right;\">\n",
       "      <th></th>\n",
       "      <th>source</th>\n",
       "      <th>author</th>\n",
       "      <th>title</th>\n",
       "      <th>description</th>\n",
       "      <th>url</th>\n",
       "      <th>urlToImage</th>\n",
       "      <th>publishedAt</th>\n",
       "      <th>content</th>\n",
       "    </tr>\n",
       "  </thead>\n",
       "  <tbody>\n",
       "    <tr>\n",
       "      <th>0</th>\n",
       "      <td>{'id': None, 'name': 'Moneycontrol'}</td>\n",
       "      <td>None</td>\n",
       "      <td>Crude oil outlook weakens on US inventory buil...</td>\n",
       "      <td>The US Energy Information Administration (EIA)...</td>\n",
       "      <td>https://www.moneycontrol.com/news/business/com...</td>\n",
       "      <td>https://images.moneycontrol.com/static-mcnews/...</td>\n",
       "      <td>2021-01-23T13:25:44Z</td>\n",
       "      <td>Crude oil futures slipped to settle at Rs 3,83...</td>\n",
       "    </tr>\n",
       "    <tr>\n",
       "      <th>1</th>\n",
       "      <td>{'id': None, 'name': 'Moneycontrol'}</td>\n",
       "      <td>None</td>\n",
       "      <td>Reliance Home Finance Q3 loss widens to Rs 340...</td>\n",
       "      <td>Total income fell to Rs 174.66 crore in the qu...</td>\n",
       "      <td>https://www.moneycontrol.com/news/business/ear...</td>\n",
       "      <td>https://images.moneycontrol.com/static-mcnews/...</td>\n",
       "      <td>2021-01-23T10:55:42Z</td>\n",
       "      <td>Reliance Home Finance, part of the Anil Ambani...</td>\n",
       "    </tr>\n",
       "    <tr>\n",
       "      <th>2</th>\n",
       "      <td>{'id': None, 'name': 'Moneycontrol'}</td>\n",
       "      <td>None</td>\n",
       "      <td>Gold rises 1% to Rs 49,190/10 gm, silver up 3%...</td>\n",
       "      <td>Sriram Iyer, Senior Research Analyst at Relian...</td>\n",
       "      <td>https://www.moneycontrol.com/news/business/com...</td>\n",
       "      <td>https://images.moneycontrol.com/static-mcnews/...</td>\n",
       "      <td>2021-01-23T10:43:00Z</td>\n",
       "      <td>Gold prices edged lower to Rs 49,190 per 10 gr...</td>\n",
       "    </tr>\n",
       "    <tr>\n",
       "      <th>3</th>\n",
       "      <td>{'id': None, 'name': 'Business Standard'}</td>\n",
       "      <td>Press Trust of India</td>\n",
       "      <td>Telcos want govt to clarify onus of security b...</td>\n",
       "      <td>Under the current rules, telecom operators are...</td>\n",
       "      <td>https://www.business-standard.com/article/comp...</td>\n",
       "      <td>https://bsmedia.business-standard.com/_media/b...</td>\n",
       "      <td>2021-01-23T07:16:00Z</td>\n",
       "      <td>Telcos have asked the government to clarify ab...</td>\n",
       "    </tr>\n",
       "    <tr>\n",
       "      <th>4</th>\n",
       "      <td>{'id': None, 'name': 'Moneycontrol'}</td>\n",
       "      <td>None</td>\n",
       "      <td>Market ends lower on profit-booking after hitt...</td>\n",
       "      <td>On the Sensex, Reliance Industries added the m...</td>\n",
       "      <td>https://www.moneycontrol.com/news/photos/busin...</td>\n",
       "      <td>https://images.moneycontrol.com/static-mcnews/...</td>\n",
       "      <td>2021-01-23T03:41:48Z</td>\n",
       "      <td>None</td>\n",
       "    </tr>\n",
       "    <tr>\n",
       "      <th>5</th>\n",
       "      <td>{'id': None, 'name': 'Business Standard'}</td>\n",
       "      <td>P R Sanjai and Debjit Chakraborty | Bloomberg</td>\n",
       "      <td>Ambani's Reliance Jio doubles down on 5G servi...</td>\n",
       "      <td>The group's wireless operator, Reliance Jio In...</td>\n",
       "      <td>https://www.business-standard.com/article/comp...</td>\n",
       "      <td>https://bsmedia.business-standard.com/_media/b...</td>\n",
       "      <td>2021-01-23T02:54:00Z</td>\n",
       "      <td>Indian billionaire Mukesh Ambani doubled down ...</td>\n",
       "    </tr>\n",
       "    <tr>\n",
       "      <th>6</th>\n",
       "      <td>{'id': None, 'name': 'Livemint'}</td>\n",
       "      <td>Bloomberg</td>\n",
       "      <td>Mukesh Ambani’s Reliance doubles down on 5G pl...</td>\n",
       "      <td>&lt;ol&gt;&lt;li&gt;Mukesh Ambani’s Reliance doubles down ...</td>\n",
       "      <td>https://www.livemint.com/companies/news/ambani...</td>\n",
       "      <td>https://images.livemint.com/img/2021/01/23/600...</td>\n",
       "      <td>2021-01-23T01:54:54Z</td>\n",
       "      <td>Indian billionaire Mukesh Ambani doubled down ...</td>\n",
       "    </tr>\n",
       "    <tr>\n",
       "      <th>7</th>\n",
       "      <td>{'id': None, 'name': 'Business Standard'}</td>\n",
       "      <td>Samie Modak</td>\n",
       "      <td>After the high, a big fall: Sensex's 11-week w...</td>\n",
       "      <td>Most global stocks dropped, with investors pru...</td>\n",
       "      <td>https://www.business-standard.com/article/mark...</td>\n",
       "      <td>https://bsmedia.business-standard.com/_media/b...</td>\n",
       "      <td>2021-01-22T20:05:00Z</td>\n",
       "      <td>The Indian markets on Friday posted their bigg...</td>\n",
       "    </tr>\n",
       "    <tr>\n",
       "      <th>8</th>\n",
       "      <td>{'id': None, 'name': 'Moneycontrol'}</td>\n",
       "      <td>None</td>\n",
       "      <td>Strong digital contribution along with pick-up...</td>\n",
       "      <td>The key trend-setter remains the telecom busin...</td>\n",
       "      <td>https://www.moneycontrol.com/news/business/mon...</td>\n",
       "      <td>https://images.moneycontrol.com/static-mcnews/...</td>\n",
       "      <td>2021-01-22T17:58:47Z</td>\n",
       "      <td>None</td>\n",
       "    </tr>\n",
       "    <tr>\n",
       "      <th>9</th>\n",
       "      <td>{'id': None, 'name': 'Business Standard'}</td>\n",
       "      <td>Viveat Susan Pinto</td>\n",
       "      <td>Reliance Retail Q3 revenue declines 9.7% to Rs...</td>\n",
       "      <td>Yearly numbers are not comparable, RIL said, s...</td>\n",
       "      <td>https://www.business-standard.com/article/comp...</td>\n",
       "      <td>https://bsmedia.business-standard.com/_media/b...</td>\n",
       "      <td>2021-01-22T16:21:00Z</td>\n",
       "      <td>The retail arm of Reliance Industries (RIL) re...</td>\n",
       "    </tr>\n",
       "    <tr>\n",
       "      <th>10</th>\n",
       "      <td>{'id': None, 'name': 'BloombergQuint'}</td>\n",
       "      <td>Sameer Bhardwaj</td>\n",
       "      <td>RIL Q3 Results: Consolidated Net Profit Rises ...</td>\n",
       "      <td>&lt;ol&gt;&lt;li&gt;RIL Q3 Results: Consolidated Net Profi...</td>\n",
       "      <td>https://www.bloombergquint.com/quarterly-earni...</td>\n",
       "      <td>https://gumlet.assettype.com/bloombergquint%2F...</td>\n",
       "      <td>2021-01-22T16:18:36Z</td>\n",
       "      <td>Reliance Industries Ltd.s quarterly profit ros...</td>\n",
       "    </tr>\n",
       "    <tr>\n",
       "      <th>11</th>\n",
       "      <td>{'id': None, 'name': 'Moneycontrol'}</td>\n",
       "      <td>None</td>\n",
       "      <td>RIL#39;s Q3FY21 earnings show strong sequentia...</td>\n",
       "      <td>The company posted a 40.5 percent sequential g...</td>\n",
       "      <td>https://www.moneycontrol.com/news/business/mar...</td>\n",
       "      <td>https://images.moneycontrol.com/static-mcnews/...</td>\n",
       "      <td>2021-01-22T16:17:38Z</td>\n",
       "      <td>Reliance Industries (RIL) on January 22 posted...</td>\n",
       "    </tr>\n",
       "    <tr>\n",
       "      <th>12</th>\n",
       "      <td>{'id': None, 'name': 'Business Standard'}</td>\n",
       "      <td>Press Trust of India</td>\n",
       "      <td>Reliance Retail pre-tax profit rises 11.8% at ...</td>\n",
       "      <td>The retail arm of Reliance Industries had post...</td>\n",
       "      <td>https://www.business-standard.com/article/comp...</td>\n",
       "      <td>https://bsmedia.business-standard.com/_media/b...</td>\n",
       "      <td>2021-01-22T15:57:00Z</td>\n",
       "      <td>Reliance Retail on Friday reported an 11.80per...</td>\n",
       "    </tr>\n",
       "    <tr>\n",
       "      <th>13</th>\n",
       "      <td>{'id': None, 'name': 'Business Standard'}</td>\n",
       "      <td>Business Standard</td>\n",
       "      <td>Reliance Industries Q3 consolidated PAT at Rs ...</td>\n",
       "      <td>Topline takes a hit by 21% as Covid-19 impacts...</td>\n",
       "      <td>https://www.business-standard.com/article/comp...</td>\n",
       "      <td>https://bsmedia.business-standard.com/_media/b...</td>\n",
       "      <td>2021-01-22T15:47:00Z</td>\n",
       "      <td>Mukesh Ambani-led Reliance Industries reported...</td>\n",
       "    </tr>\n",
       "    <tr>\n",
       "      <th>14</th>\n",
       "      <td>{'id': None, 'name': 'Business Standard'}</td>\n",
       "      <td>Business Standard</td>\n",
       "      <td>Reliance Jio net profit rises 15.5% to Rs 3,48...</td>\n",
       "      <td>Jio Platforms, which provides digital and tele...</td>\n",
       "      <td>https://www.business-standard.com/article/comp...</td>\n",
       "      <td>https://bsmedia.business-standard.com/_media/b...</td>\n",
       "      <td>2021-01-22T15:06:00Z</td>\n",
       "      <td>Jio Platforms recorded 15.5 per cent quarter-o...</td>\n",
       "    </tr>\n",
       "    <tr>\n",
       "      <th>15</th>\n",
       "      <td>{'id': None, 'name': 'Business Standard'}</td>\n",
       "      <td>Business Standard</td>\n",
       "      <td>Reliance Industries Q3 net profit rises 12.5% ...</td>\n",
       "      <td>Consolidated net revenue declined to Rs 1.23 t...</td>\n",
       "      <td>https://www.business-standard.com/article/comp...</td>\n",
       "      <td>https://bsmedia.business-standard.com/_media/b...</td>\n",
       "      <td>2021-01-22T14:33:00Z</td>\n",
       "      <td>Billionaire Mukesh Ambani's Reliance Industrie...</td>\n",
       "    </tr>\n",
       "    <tr>\n",
       "      <th>16</th>\n",
       "      <td>{'id': None, 'name': 'Moneycontrol'}</td>\n",
       "      <td>None</td>\n",
       "      <td>Reliance Jio Q3 results: Profit grows to Rs 3,...</td>\n",
       "      <td>In the corresponding quarter of the previous f...</td>\n",
       "      <td>https://www.moneycontrol.com/news/business/mar...</td>\n",
       "      <td>https://images.moneycontrol.com/static-mcnews/...</td>\n",
       "      <td>2021-01-22T14:31:00Z</td>\n",
       "      <td>Reliance Jio, the telecommunications arm of Ji...</td>\n",
       "    </tr>\n",
       "    <tr>\n",
       "      <th>17</th>\n",
       "      <td>{'id': None, 'name': 'Business Standard'}</td>\n",
       "      <td>Press Trust of India</td>\n",
       "      <td>Aurobindo Pharma, KAPL get nod for promotion o...</td>\n",
       "      <td>The government has given approval to drug firm...</td>\n",
       "      <td>https://www.business-standard.com/article/comp...</td>\n",
       "      <td>https://bsmedia.business-standard.com/_media/b...</td>\n",
       "      <td>2021-01-22T14:31:00Z</td>\n",
       "      <td>The government has given approval to drug firm...</td>\n",
       "    </tr>\n",
       "  </tbody>\n",
       "</table>\n",
       "</div>"
      ],
      "text/plain": [
       "                                       source  \\\n",
       "0        {'id': None, 'name': 'Moneycontrol'}   \n",
       "1        {'id': None, 'name': 'Moneycontrol'}   \n",
       "2        {'id': None, 'name': 'Moneycontrol'}   \n",
       "3   {'id': None, 'name': 'Business Standard'}   \n",
       "4        {'id': None, 'name': 'Moneycontrol'}   \n",
       "5   {'id': None, 'name': 'Business Standard'}   \n",
       "6            {'id': None, 'name': 'Livemint'}   \n",
       "7   {'id': None, 'name': 'Business Standard'}   \n",
       "8        {'id': None, 'name': 'Moneycontrol'}   \n",
       "9   {'id': None, 'name': 'Business Standard'}   \n",
       "10     {'id': None, 'name': 'BloombergQuint'}   \n",
       "11       {'id': None, 'name': 'Moneycontrol'}   \n",
       "12  {'id': None, 'name': 'Business Standard'}   \n",
       "13  {'id': None, 'name': 'Business Standard'}   \n",
       "14  {'id': None, 'name': 'Business Standard'}   \n",
       "15  {'id': None, 'name': 'Business Standard'}   \n",
       "16       {'id': None, 'name': 'Moneycontrol'}   \n",
       "17  {'id': None, 'name': 'Business Standard'}   \n",
       "\n",
       "                                           author  \\\n",
       "0                                            None   \n",
       "1                                            None   \n",
       "2                                            None   \n",
       "3                            Press Trust of India   \n",
       "4                                            None   \n",
       "5   P R Sanjai and Debjit Chakraborty | Bloomberg   \n",
       "6                                       Bloomberg   \n",
       "7                                     Samie Modak   \n",
       "8                                            None   \n",
       "9                              Viveat Susan Pinto   \n",
       "10                                Sameer Bhardwaj   \n",
       "11                                           None   \n",
       "12                           Press Trust of India   \n",
       "13                              Business Standard   \n",
       "14                              Business Standard   \n",
       "15                              Business Standard   \n",
       "16                                           None   \n",
       "17                           Press Trust of India   \n",
       "\n",
       "                                                title  \\\n",
       "0   Crude oil outlook weakens on US inventory buil...   \n",
       "1   Reliance Home Finance Q3 loss widens to Rs 340...   \n",
       "2   Gold rises 1% to Rs 49,190/10 gm, silver up 3%...   \n",
       "3   Telcos want govt to clarify onus of security b...   \n",
       "4   Market ends lower on profit-booking after hitt...   \n",
       "5   Ambani's Reliance Jio doubles down on 5G servi...   \n",
       "6   Mukesh Ambani’s Reliance doubles down on 5G pl...   \n",
       "7   After the high, a big fall: Sensex's 11-week w...   \n",
       "8   Strong digital contribution along with pick-up...   \n",
       "9   Reliance Retail Q3 revenue declines 9.7% to Rs...   \n",
       "10  RIL Q3 Results: Consolidated Net Profit Rises ...   \n",
       "11  RIL#39;s Q3FY21 earnings show strong sequentia...   \n",
       "12  Reliance Retail pre-tax profit rises 11.8% at ...   \n",
       "13  Reliance Industries Q3 consolidated PAT at Rs ...   \n",
       "14  Reliance Jio net profit rises 15.5% to Rs 3,48...   \n",
       "15  Reliance Industries Q3 net profit rises 12.5% ...   \n",
       "16  Reliance Jio Q3 results: Profit grows to Rs 3,...   \n",
       "17  Aurobindo Pharma, KAPL get nod for promotion o...   \n",
       "\n",
       "                                          description  \\\n",
       "0   The US Energy Information Administration (EIA)...   \n",
       "1   Total income fell to Rs 174.66 crore in the qu...   \n",
       "2   Sriram Iyer, Senior Research Analyst at Relian...   \n",
       "3   Under the current rules, telecom operators are...   \n",
       "4   On the Sensex, Reliance Industries added the m...   \n",
       "5   The group's wireless operator, Reliance Jio In...   \n",
       "6   <ol><li>Mukesh Ambani’s Reliance doubles down ...   \n",
       "7   Most global stocks dropped, with investors pru...   \n",
       "8   The key trend-setter remains the telecom busin...   \n",
       "9   Yearly numbers are not comparable, RIL said, s...   \n",
       "10  <ol><li>RIL Q3 Results: Consolidated Net Profi...   \n",
       "11  The company posted a 40.5 percent sequential g...   \n",
       "12  The retail arm of Reliance Industries had post...   \n",
       "13  Topline takes a hit by 21% as Covid-19 impacts...   \n",
       "14  Jio Platforms, which provides digital and tele...   \n",
       "15  Consolidated net revenue declined to Rs 1.23 t...   \n",
       "16  In the corresponding quarter of the previous f...   \n",
       "17  The government has given approval to drug firm...   \n",
       "\n",
       "                                                  url  \\\n",
       "0   https://www.moneycontrol.com/news/business/com...   \n",
       "1   https://www.moneycontrol.com/news/business/ear...   \n",
       "2   https://www.moneycontrol.com/news/business/com...   \n",
       "3   https://www.business-standard.com/article/comp...   \n",
       "4   https://www.moneycontrol.com/news/photos/busin...   \n",
       "5   https://www.business-standard.com/article/comp...   \n",
       "6   https://www.livemint.com/companies/news/ambani...   \n",
       "7   https://www.business-standard.com/article/mark...   \n",
       "8   https://www.moneycontrol.com/news/business/mon...   \n",
       "9   https://www.business-standard.com/article/comp...   \n",
       "10  https://www.bloombergquint.com/quarterly-earni...   \n",
       "11  https://www.moneycontrol.com/news/business/mar...   \n",
       "12  https://www.business-standard.com/article/comp...   \n",
       "13  https://www.business-standard.com/article/comp...   \n",
       "14  https://www.business-standard.com/article/comp...   \n",
       "15  https://www.business-standard.com/article/comp...   \n",
       "16  https://www.moneycontrol.com/news/business/mar...   \n",
       "17  https://www.business-standard.com/article/comp...   \n",
       "\n",
       "                                           urlToImage           publishedAt  \\\n",
       "0   https://images.moneycontrol.com/static-mcnews/...  2021-01-23T13:25:44Z   \n",
       "1   https://images.moneycontrol.com/static-mcnews/...  2021-01-23T10:55:42Z   \n",
       "2   https://images.moneycontrol.com/static-mcnews/...  2021-01-23T10:43:00Z   \n",
       "3   https://bsmedia.business-standard.com/_media/b...  2021-01-23T07:16:00Z   \n",
       "4   https://images.moneycontrol.com/static-mcnews/...  2021-01-23T03:41:48Z   \n",
       "5   https://bsmedia.business-standard.com/_media/b...  2021-01-23T02:54:00Z   \n",
       "6   https://images.livemint.com/img/2021/01/23/600...  2021-01-23T01:54:54Z   \n",
       "7   https://bsmedia.business-standard.com/_media/b...  2021-01-22T20:05:00Z   \n",
       "8   https://images.moneycontrol.com/static-mcnews/...  2021-01-22T17:58:47Z   \n",
       "9   https://bsmedia.business-standard.com/_media/b...  2021-01-22T16:21:00Z   \n",
       "10  https://gumlet.assettype.com/bloombergquint%2F...  2021-01-22T16:18:36Z   \n",
       "11  https://images.moneycontrol.com/static-mcnews/...  2021-01-22T16:17:38Z   \n",
       "12  https://bsmedia.business-standard.com/_media/b...  2021-01-22T15:57:00Z   \n",
       "13  https://bsmedia.business-standard.com/_media/b...  2021-01-22T15:47:00Z   \n",
       "14  https://bsmedia.business-standard.com/_media/b...  2021-01-22T15:06:00Z   \n",
       "15  https://bsmedia.business-standard.com/_media/b...  2021-01-22T14:33:00Z   \n",
       "16  https://images.moneycontrol.com/static-mcnews/...  2021-01-22T14:31:00Z   \n",
       "17  https://bsmedia.business-standard.com/_media/b...  2021-01-22T14:31:00Z   \n",
       "\n",
       "                                              content  \n",
       "0   Crude oil futures slipped to settle at Rs 3,83...  \n",
       "1   Reliance Home Finance, part of the Anil Ambani...  \n",
       "2   Gold prices edged lower to Rs 49,190 per 10 gr...  \n",
       "3   Telcos have asked the government to clarify ab...  \n",
       "4                                                None  \n",
       "5   Indian billionaire Mukesh Ambani doubled down ...  \n",
       "6   Indian billionaire Mukesh Ambani doubled down ...  \n",
       "7   The Indian markets on Friday posted their bigg...  \n",
       "8                                                None  \n",
       "9   The retail arm of Reliance Industries (RIL) re...  \n",
       "10  Reliance Industries Ltd.s quarterly profit ros...  \n",
       "11  Reliance Industries (RIL) on January 22 posted...  \n",
       "12  Reliance Retail on Friday reported an 11.80per...  \n",
       "13  Mukesh Ambani-led Reliance Industries reported...  \n",
       "14  Jio Platforms recorded 15.5 per cent quarter-o...  \n",
       "15  Billionaire Mukesh Ambani's Reliance Industrie...  \n",
       "16  Reliance Jio, the telecommunications arm of Ji...  \n",
       "17  The government has given approval to drug firm...  "
      ]
     },
     "execution_count": 59,
     "metadata": {},
     "output_type": "execute_result"
    }
   ],
   "source": [
    "df=pd.DataFrame(articles)\n",
    "df"
   ]
  },
  {
   "cell_type": "code",
   "execution_count": 201,
   "metadata": {},
   "outputs": [
    {
     "data": {
      "text/plain": [
       "'Moneycontrol'"
      ]
     },
     "execution_count": 201,
     "metadata": {},
     "output_type": "execute_result"
    }
   ],
   "source": [
    "df.loc[1]['source'].get('name')"
   ]
  },
  {
   "cell_type": "code",
   "execution_count": 89,
   "metadata": {},
   "outputs": [],
   "source": [
    "import datetime as dt\n",
    "import pytz"
   ]
  },
  {
   "cell_type": "code",
   "execution_count": 146,
   "metadata": {},
   "outputs": [],
   "source": [
    "current_date = dt.datetime.now(pytz.timezone('Asia/Kolkata')).date() \n",
    "current_time = dt.datetime.now(pytz.timezone('Asia/Kolkata')).time()\n",
    "#current_time = dt.datetime.today(pytz.timezone('Asia/Kolkata'))"
   ]
  },
  {
   "cell_type": "code",
   "execution_count": 151,
   "metadata": {},
   "outputs": [
    {
     "data": {
      "text/plain": [
       "11"
      ]
     },
     "execution_count": 151,
     "metadata": {},
     "output_type": "execute_result"
    }
   ],
   "source": [
    "current_time.hour"
   ]
  },
  {
   "cell_type": "code",
   "execution_count": 153,
   "metadata": {},
   "outputs": [
    {
     "name": "stdout",
     "output_type": "stream",
     "text": [
      "9:00\n"
     ]
    }
   ],
   "source": [
    "if current_time.hour<=12:\n",
    "    print('9:00')"
   ]
  },
  {
   "cell_type": "code",
   "execution_count": 145,
   "metadata": {},
   "outputs": [
    {
     "data": {
      "text/plain": [
       "'2021-01-23'"
      ]
     },
     "execution_count": 145,
     "metadata": {},
     "output_type": "execute_result"
    }
   ],
   "source": [
    "previous_day=current_date-dt.timedelta(days=1)\n",
    "previous_day.isoformat()"
   ]
  },
  {
   "cell_type": "code",
   "execution_count": 123,
   "metadata": {},
   "outputs": [
    {
     "data": {
      "text/plain": [
       "'2021-01-22T14:30:00'"
      ]
     },
     "execution_count": 123,
     "metadata": {},
     "output_type": "execute_result"
    }
   ],
   "source": [
    "fromdt=f'{previous_day.isoformat()}'+'T14:30:00'\n",
    "fromdt"
   ]
  },
  {
   "cell_type": "code",
   "execution_count": 124,
   "metadata": {},
   "outputs": [],
   "source": [
    "newsapi = NewsApiClient(api_key='75e9651782304c69aad9e604cd4f4a59')\n",
    "\n",
    "# /v2/top-headlines\n",
    "top_headlines = newsapi.get_everything(q='reliance',\n",
    "                                       # sources='Livemint',\n",
    "                                       domains='bloombergquint.com,livemint.com,moneycontrol.com,economictimes.indiatimes.com,business-standard.com,financialexpress.com',\n",
    "                                        language='en',\n",
    "                                       from_param=fromdt,\n",
    "                                        #  to='2021-01-23',\n",
    "                                       sort_by='publishedAt'\n",
    "                                          )"
   ]
  },
  {
   "cell_type": "code",
   "execution_count": 158,
   "metadata": {},
   "outputs": [
    {
     "data": {
      "text/plain": [
       "0     Crude oil outlook weakens on US inventory buil...\n",
       "1     Reliance Home Finance Q3 loss widens to Rs 340...\n",
       "2     Gold rises 1% to Rs 49,190/10 gm, silver up 3%...\n",
       "3     Telcos want govt to clarify onus of security b...\n",
       "4     Market ends lower on profit-booking after hitt...\n",
       "5     Ambani's Reliance Jio doubles down on 5G servi...\n",
       "6     Mukesh Ambani’s Reliance doubles down on 5G pl...\n",
       "7     After the high, a big fall: Sensex's 11-week w...\n",
       "8     Strong digital contribution along with pick-up...\n",
       "9     Reliance Retail Q3 revenue declines 9.7% to Rs...\n",
       "10    RIL Q3 Results: Consolidated Net Profit Rises ...\n",
       "11    RIL#39;s Q3FY21 earnings show strong sequentia...\n",
       "12    Reliance Retail pre-tax profit rises 11.8% at ...\n",
       "13    Reliance Industries Q3 consolidated PAT at Rs ...\n",
       "14    Reliance Jio net profit rises 15.5% to Rs 3,48...\n",
       "15    Reliance Industries Q3 net profit rises 12.5% ...\n",
       "16    Reliance Jio Q3 results: Profit grows to Rs 3,...\n",
       "17    Aurobindo Pharma, KAPL get nod for promotion o...\n",
       "Name: title, dtype: object"
      ]
     },
     "execution_count": 158,
     "metadata": {},
     "output_type": "execute_result"
    }
   ],
   "source": [
    "df.title"
   ]
  },
  {
   "cell_type": "code",
   "execution_count": 134,
   "metadata": {},
   "outputs": [
    {
     "data": {
      "text/plain": [
       "'Crude oil outlook weakens on US inventory build-up, rising COVID cases; gains 0.34% this week on MCX'"
      ]
     },
     "execution_count": 134,
     "metadata": {},
     "output_type": "execute_result"
    }
   ],
   "source": [
    "df.loc[0]['title']"
   ]
  },
  {
   "cell_type": "code",
   "execution_count": 136,
   "metadata": {},
   "outputs": [
    {
     "data": {
      "text/plain": [
       "18"
      ]
     },
     "execution_count": 136,
     "metadata": {},
     "output_type": "execute_result"
    }
   ],
   "source": [
    "len(df.index)"
   ]
  },
  {
   "cell_type": "code",
   "execution_count": 140,
   "metadata": {},
   "outputs": [],
   "source": [
    "source=df.loc[0]['source']"
   ]
  },
  {
   "cell_type": "code",
   "execution_count": 142,
   "metadata": {},
   "outputs": [
    {
     "ename": "AttributeError",
     "evalue": "'dict' object has no attribute 'key'",
     "output_type": "error",
     "traceback": [
      "\u001b[1;31m---------------------------------------------------------------------------\u001b[0m",
      "\u001b[1;31mAttributeError\u001b[0m                            Traceback (most recent call last)",
      "\u001b[1;32m<ipython-input-142-8e96629bda47>\u001b[0m in \u001b[0;36m<module>\u001b[1;34m\u001b[0m\n\u001b[1;32m----> 1\u001b[1;33m \u001b[0msource\u001b[0m\u001b[1;33m.\u001b[0m\u001b[0mkey\u001b[0m\u001b[1;33m(\u001b[0m\u001b[1;34m'name'\u001b[0m\u001b[1;33m)\u001b[0m\u001b[1;33m\u001b[0m\u001b[1;33m\u001b[0m\u001b[0m\n\u001b[0m",
      "\u001b[1;31mAttributeError\u001b[0m: 'dict' object has no attribute 'key'"
     ]
    }
   ],
   "source": [
    "source.key('name')"
   ]
  },
  {
   "cell_type": "code",
   "execution_count": 143,
   "metadata": {},
   "outputs": [
    {
     "ename": "NameError",
     "evalue": "name 'q' is not defined",
     "output_type": "error",
     "traceback": [
      "\u001b[1;31m---------------------------------------------------------------------------\u001b[0m",
      "\u001b[1;31mNameError\u001b[0m                                 Traceback (most recent call last)",
      "\u001b[1;32m<ipython-input-143-e222fcdf3350>\u001b[0m in \u001b[0;36m<module>\u001b[1;34m\u001b[0m\n\u001b[1;32m----> 1\u001b[1;33m \u001b[0mq\u001b[0m\u001b[1;33m\u001b[0m\u001b[1;33m\u001b[0m\u001b[0m\n\u001b[0m",
      "\u001b[1;31mNameError\u001b[0m: name 'q' is not defined"
     ]
    }
   ],
   "source": [
    "q"
   ]
  },
  {
   "cell_type": "code",
   "execution_count": 157,
   "metadata": {},
   "outputs": [
    {
     "data": {
      "text/plain": [
       "'2021-01-23T14:30:00'"
      ]
     },
     "execution_count": 157,
     "metadata": {},
     "output_type": "execute_result"
    }
   ],
   "source": [
    "current_date = dt.datetime.now(pytz.timezone('Asia/Kolkata')).date()\n",
    "current_time = dt.datetime.now(pytz.timezone('Asia/Kolkata')).time()\n",
    "previous_day=current_date-dt.timedelta(days=1)\n",
    "\n",
    "if current_time.hour<=12:\n",
    "    time='T14:30:00'\n",
    "else:\n",
    "    time = 'T09:00:00'\n",
    "\n",
    "fromdt=f'{previous_day.isoformat()}'+time\n",
    "fromdt"
   ]
  },
  {
   "cell_type": "code",
   "execution_count": 188,
   "metadata": {},
   "outputs": [
    {
     "name": "stdout",
     "output_type": "stream",
     "text": [
      "Connecting to email server.....\n",
      "Server Connection established.\n",
      "Login to email....\n",
      "Email login successful.\n",
      "Subject: Today's Top stories.. \n",
      "\n",
      " hello, how r you.\n",
      "email sent.\n",
      "Server Closed.\n"
     ]
    }
   ],
   "source": [
    "import smtplib\n",
    "#from email_body import email_html\n",
    "\n",
    "def send_mail():\n",
    "    print(\"Connecting to email server.....\")\n",
    "    server = smtplib.SMTP('smtp.gmail.com', 587)\n",
    "    server.ehlo()\n",
    "    server.starttls()\n",
    "    server.ehlo()\n",
    "    print(\"Server Connection established.\")\n",
    "    \n",
    "    print(\"Login to email....\")\n",
    "\n",
    "    server.login('yashpatel0013@gmail.com','umwbtlfetxeicbml')\n",
    "\n",
    "    print(\"Email login successful.\")\n",
    "    \n",
    "    subject = f\"Today's Top stories..\"\n",
    "    body=\"hello, how r you.\"\n",
    "\n",
    "    msg = f\"Subject: {subject} \\n\\n {body}\"\n",
    "    print(msg)\n",
    "    server.sendmail(\n",
    "        'yashpatel0013@gmail.com',\n",
    "        'yash.1viroja1311@gmail.com',\n",
    "        msg\n",
    "    )\n",
    "\n",
    "    print(\"email sent.\")\n",
    "\n",
    "    server.quit()\n",
    "    print(\"Server Closed.\")\n",
    "send_mail()"
   ]
  },
  {
   "cell_type": "code",
   "execution_count": 193,
   "metadata": {},
   "outputs": [
    {
     "data": {
      "text/plain": [
       "<email.mime.multipart.MIMEMultipart at 0x2b2edade4c0>"
      ]
     },
     "execution_count": 193,
     "metadata": {},
     "output_type": "execute_result"
    }
   ],
   "source": [
    "from email.mime.multipart import MIMEMultipart\n",
    "from email.mime.text import MIMEText\n",
    "msg = MIMEMultipart('alternative')\n",
    "\n",
    "# Create the body of the message (a plain-text and an HTML version).\n",
    "text = \"Hi!\\nHow are you?\\nHere is the link you wanted:\\nhttp://www.python.org\"\n",
    "html = \"\"\"\\\n",
    "<html>\n",
    "  <head></head>\n",
    "  <body>\n",
    "    <p>Hi!<br>\n",
    "       How are you?<br>\n",
    "       Here is the <a href=\"http://www.python.org\">link</a> you wanted.\n",
    "    </p>\n",
    "  </body>\n",
    "</html>\n",
    "\"\"\"\n",
    "\n",
    "# Record the MIME types of both parts - text/plain and text/html.\n",
    "part1 = MIMEText(text, 'plain')\n",
    "part2 = MIMEText(html, 'html')\n",
    "\n",
    "msg.attach(part1)\n",
    "msg.attach(part2)\n",
    "\n",
    "msg"
   ]
  },
  {
   "cell_type": "code",
   "execution_count": 194,
   "metadata": {},
   "outputs": [
    {
     "name": "stdout",
     "output_type": "stream",
     "text": [
      "Connecting to email server.....\n",
      "Server Connection established.\n",
      "Login to email....\n",
      "Email login successful.\n",
      "Content-Type: multipart/alternative; boundary=\"===============5427614800668142893==\"\n",
      "MIME-Version: 1.0\n",
      "Subject: Link\n",
      "From: yashpatel0013@gmail.com\n",
      "To: yash.1viroja1311@gmail.com\n",
      "\n",
      "--===============5427614800668142893==\n",
      "\n",
      "--===============5427614800668142893==--\n",
      "\n",
      "email sent.\n",
      "Server Closed.\n"
     ]
    }
   ],
   "source": [
    "\n",
    "import smtplib\n",
    "\n",
    "from email.mime.multipart import MIMEMultipart\n",
    "from email.mime.text import MIMEText\n",
    "\n",
    "\n",
    "print(\"Connecting to email server.....\")\n",
    "server =smtplib.SMTP('smtp.gmail.com', 587)\n",
    "server.ehlo()\n",
    "server.starttls()\n",
    "server.ehlo()\n",
    "print(\"Server Connection established.\")\n",
    "    \n",
    "print(\"Login to email....\")\n",
    "\n",
    "server.login('yashpatel0013@gmail.com','umwbtlfetxeicbml')\n",
    "\n",
    "print(\"Email login successful.\")\n",
    "# me == my email address\n",
    "# you == recipient's email address\n",
    "me = \"yashpatel0013@gmail.com\"\n",
    "you = \"yash.1viroja1311@gmail.com\"\n",
    "\n",
    "# Create message container - the correct MIME type is multipart/alternative.\n",
    "msg = MIMEMultipart('alternative')\n",
    "msg['Subject'] = f\"Today's Top stories {topic}\"\n",
    "msg['From'] = me\n",
    "msg['To'] = you\n",
    "\n",
    "# Create the body of the message (a plain-text and an HTML version).\n",
    "text = \"Here is the news you are interested in...\"\n",
    "html = \"\"\"\\\n",
    "<html>\n",
    "  <head></head>\n",
    "  <body>\n",
    "    <p>Hi!<br>\n",
    "       How are you?<br>\n",
    "       Here is the <a href=\"http://www.python.org\">link</a> you wanted.\n",
    "    </p>\n",
    "  </body>\n",
    "</html>\n",
    "\"\"\"\n",
    "# Record the MIME types of both parts - text/plain and text/html.\n",
    "part1 = MIMEText(text, 'plain')\n",
    "part2 = MIMEText(html, 'html')\n",
    "\n",
    "# Attach parts into message container.\n",
    "# According to RFC 2046, the last part of a multipart message, in this case\n",
    "# the HTML message, is best and preferred.\n",
    "msg.attach(part1)\n",
    "msg.attach(part2)\n",
    "\n",
    "# sendmail function takes 3 arguments: sender's address, recipient's address\n",
    "# and message to send - here it is sent as one string.\n",
    "server.sendmail(me, you, msg.as_string())\n",
    "print(\"email sent.\")\n",
    "\n",
    "\n",
    "server.quit()\n",
    "\n",
    "print(\"Server Closed.\")"
   ]
  },
  {
   "cell_type": "code",
   "execution_count": null,
   "metadata": {},
   "outputs": [],
   "source": [
    "import smtplib\n",
    "from email_body import email_html\n",
    "from email.mime.multipart import MIMEMultipart\n",
    "from email.mime.text import MIMEText\n",
    "\n",
    "\n",
    "\n",
    "\n",
    "def send_mail(df,topic):\n",
    "    print(\"Connecting to email server.....\")\n",
    "    server =smtplib.SMTP('smtp.gmail.com', 587)\n",
    "    server.ehlo()\n",
    "    server.starttls()\n",
    "    server.ehlo()\n",
    "    print(\"Server Connection established.....\")\n",
    "\n",
    "\n",
    "    print(\"Login to email....\")\n",
    "\n",
    "    server.login('yashpatel0013@gmail.com','umwbtlfetxeicbml')\n",
    "\n",
    "    print(\"Email login successful.\")\n",
    "\n",
    "    subject = \n",
    "\n",
    "    print(\"Creating email format....\")\n",
    "    body=email_html(df)\n",
    "    msg = MIMEMultipart('alternative')\n",
    "\n",
    "    msg = f\"Subject: {subject} \\n\\n {body}\"\n",
    "    print(\"Email created successfully.\")\n",
    "\n",
    "    print(\"Sending mail......\")\n",
    "\n",
    "    server.sendmail(\n",
    "        'yashpatel0013@gmail.com',\n",
    "        'yash.1viroja1311@gmail.com',\n",
    "        msg.as_string()\n",
    "    )\n",
    "\n",
    "    print(\"email sent\")\n",
    "\n",
    "    server.quit()\n",
    "\n",
    "    print(\"Server Closed.\")"
   ]
  }
 ],
 "metadata": {
  "kernelspec": {
   "display_name": "Python 3",
   "language": "python",
   "name": "python3"
  },
  "language_info": {
   "codemirror_mode": {
    "name": "ipython",
    "version": 3
   },
   "file_extension": ".py",
   "mimetype": "text/x-python",
   "name": "python",
   "nbconvert_exporter": "python",
   "pygments_lexer": "ipython3",
   "version": "3.8.5"
  }
 },
 "nbformat": 4,
 "nbformat_minor": 4
}
