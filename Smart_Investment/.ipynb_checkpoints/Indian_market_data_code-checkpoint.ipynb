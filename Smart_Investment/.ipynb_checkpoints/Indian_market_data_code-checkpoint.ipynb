{
 "cells": [
  {
   "cell_type": "code",
   "execution_count": 5,
   "metadata": {},
   "outputs": [],
   "source": [
    "import numpy as np\n",
    "import math\n",
    "import pandas as pd\n",
    "import requests"
   ]
  },
  {
   "cell_type": "code",
   "execution_count": 6,
   "metadata": {},
   "outputs": [],
   "source": [
    "from sercret import key"
   ]
  },
  {
   "cell_type": "code",
   "execution_count": 14,
   "metadata": {},
   "outputs": [
    {
     "data": {
      "text/plain": [
       "{'symbol': '500325-IB',\n",
       " 'companyName': 'Reliance Industries Ltd.',\n",
       " 'primaryExchange': 'LBTDSE ',\n",
       " 'calculationPrice': 'close',\n",
       " 'open': None,\n",
       " 'openTime': None,\n",
       " 'openSource': 'ialfcfio',\n",
       " 'close': None,\n",
       " 'closeTime': None,\n",
       " 'closeSource': 'offlicia',\n",
       " 'high': None,\n",
       " 'highTime': 1618869489215,\n",
       " 'highSource': 'Ceslo',\n",
       " 'low': None,\n",
       " 'lowTime': 1650382537744,\n",
       " 'lowSource': 'oesCl',\n",
       " 'latestPrice': 2047.1,\n",
       " 'latestSource': 'Close',\n",
       " 'latestTime': 'January 19, 2021',\n",
       " 'latestUpdate': 1664258639327,\n",
       " 'latestVolume': None,\n",
       " 'iexRealtimePrice': None,\n",
       " 'iexRealtimeSize': None,\n",
       " 'iexLastUpdated': None,\n",
       " 'delayedPrice': None,\n",
       " 'delayedPriceTime': None,\n",
       " 'oddLotDelayedPrice': None,\n",
       " 'oddLotDelayedPriceTime': None,\n",
       " 'extendedPrice': None,\n",
       " 'extendedChange': None,\n",
       " 'extendedChangePercent': None,\n",
       " 'extendedPriceTime': None,\n",
       " 'previousClose': 2042.7,\n",
       " 'previousVolume': 1385885,\n",
       " 'change': 33.6,\n",
       " 'changePercent': 0.01664,\n",
       " 'volume': None,\n",
       " 'iexMarketPercent': None,\n",
       " 'iexVolume': None,\n",
       " 'avgTotalVolume': 605179,\n",
       " 'iexBidPrice': None,\n",
       " 'iexBidSize': None,\n",
       " 'iexAskPrice': None,\n",
       " 'iexAskSize': None,\n",
       " 'iexOpen': None,\n",
       " 'iexOpenTime': None,\n",
       " 'iexClose': None,\n",
       " 'iexCloseTime': None,\n",
       " 'marketCap': 14212381987002,\n",
       " 'peRatio': None,\n",
       " 'week52High': 2340.6,\n",
       " 'week52Low': 888.74,\n",
       " 'ytdChange': 0.03370919958285104,\n",
       " 'lastTradeTime': None,\n",
       " 'isUSMarketOpen': True}"
      ]
     },
     "execution_count": 14,
     "metadata": {},
     "output_type": "execute_result"
    }
   ],
   "source": [
    "symbol = '500325-IB'\n",
    "#region = 'bom'\n",
    "api_url = f'https://sandbox.iexapis.com/stable/stock/{symbol}/quote?token={key}'\n",
    "#api_url = f'https://sandbox.iexapis.com/stable/ref-data/exchange/{region}/{symbol}/a-IB/quote?token={key}'\n",
    "#/ref-data/region/{region}/symbols\n",
    "data = requests.get(api_url).json()\n",
    "data"
   ]
  },
  {
   "cell_type": "code",
   "execution_count": null,
   "metadata": {},
   "outputs": [],
   "source": []
  }
 ],
 "metadata": {
  "kernelspec": {
   "display_name": "Python 3",
   "language": "python",
   "name": "python3"
  },
  "language_info": {
   "codemirror_mode": {
    "name": "ipython",
    "version": 3
   },
   "file_extension": ".py",
   "mimetype": "text/x-python",
   "name": "python",
   "nbconvert_exporter": "python",
   "pygments_lexer": "ipython3",
   "version": "3.8.5"
  }
 },
 "nbformat": 4,
 "nbformat_minor": 4
}
