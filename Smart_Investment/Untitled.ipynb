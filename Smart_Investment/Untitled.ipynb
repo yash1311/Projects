{
 "cells": [
  {
   "cell_type": "code",
   "execution_count": 1,
   "metadata": {},
   "outputs": [],
   "source": [
    "import numpy as np\n",
    "import math\n",
    "import pandas as pd\n",
    "import requests"
   ]
  },
  {
   "cell_type": "code",
   "execution_count": 2,
   "metadata": {},
   "outputs": [],
   "source": [
    "from sercret import key"
   ]
  },
  {
   "cell_type": "code",
   "execution_count": 5,
   "metadata": {},
   "outputs": [
    {
     "name": "stdout",
     "output_type": "stream",
     "text": [
      "Response content is not valid JSON\n"
     ]
    }
   ],
   "source": [
    "symbol = '500570-IB'\n",
    "region = 'bom'\n",
    "api_url = f'https://sandbox.iexapis.com/stable/stock/{symbol}/quote?token={key}'\n",
    "#api_url = f'https://sandbox.iexapis.com/stable/ref-data/exchange/{region}/{symbol}/a-IB/quote?token={key}'\n",
    "#/ref-data/region/{region}/symbols\n",
    "data = requests.get(api_url)\n",
    "try:\n",
    "    data = data.json()\n",
    "except ValueError:\n",
    "    print(\"Response content is not valid JSON\")"
   ]
  },
  {
   "cell_type": "code",
   "execution_count": null,
   "metadata": {},
   "outputs": [],
   "source": []
  }
 ],
 "metadata": {
  "kernelspec": {
   "display_name": "Python 3",
   "language": "python",
   "name": "python3"
  },
  "language_info": {
   "codemirror_mode": {
    "name": "ipython",
    "version": 3
   },
   "file_extension": ".py",
   "mimetype": "text/x-python",
   "name": "python",
   "nbconvert_exporter": "python",
   "pygments_lexer": "ipython3",
   "version": "3.8.5"
  }
 },
 "nbformat": 4,
 "nbformat_minor": 4
}
